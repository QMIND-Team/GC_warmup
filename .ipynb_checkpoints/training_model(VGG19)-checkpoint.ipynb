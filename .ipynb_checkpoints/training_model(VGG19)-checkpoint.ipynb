{
 "cells": [
  {
   "cell_type": "code",
   "execution_count": 28,
   "metadata": {},
   "outputs": [
    {
     "name": "stdout",
     "output_type": "stream",
     "text": [
      "Found 221 images belonging to 3 classes.\n",
      "Found 54 images belonging to 3 classes.\n"
     ]
    }
   ],
   "source": [
    "from keras.preprocessing.image import ImageDataGenerator\n",
    "\n",
    "# Create image augmenter\n",
    "dataAugment = ImageDataGenerator(rescale=1.0/255,\n",
    "                                 rotation_range=40,\n",
    "                                 width_shift_range=0.2,\n",
    "                                 height_shift_range=0.2,\n",
    "                                 zoom_range=0.2,\n",
    "                                 shear_range=0.2,\n",
    "                                 fill_mode='reflect',\n",
    "                                 horizontal_flip=True,\n",
    "                                 validation_split=0.2,\n",
    "                                 data_format='channels_last'\n",
    "                                )\n",
    "        \n",
    "trainDataGenerator = dataAugment.flow_from_directory(directory='Data/Train',\n",
    "                                                     target_size=(224, 224),\n",
    "                                                     class_mode='categorical',\n",
    "                                                     subset='training',\n",
    "                                                     shuffle=True,\n",
    "                                                     # seed=\n",
    "                                                    )\n",
    "\n",
    "validationDataGenerator = dataAugment.flow_from_directory(directory='Data/Train',\n",
    "                                                          target_size=(224,224),\n",
    "                                                          class_mode='categorical',\n",
    "                                                          subset='validation',\n",
    "                                                          shuffle=True,\n",
    "                                                          # seed=\n",
    "                                                         )"
   ]
  },
  {
   "cell_type": "code",
   "execution_count": 29,
   "metadata": {},
   "outputs": [
    {
     "name": "stdout",
     "output_type": "stream",
     "text": [
      "_________________________________________________________________\n",
      "Layer (type)                 Output Shape              Param #   \n",
      "=================================================================\n",
      "input_6 (InputLayer)         (None, 224, 224, 3)       0         \n",
      "_________________________________________________________________\n",
      "block1_conv1 (Conv2D)        (None, 224, 224, 64)      1792      \n",
      "_________________________________________________________________\n",
      "block1_conv2 (Conv2D)        (None, 224, 224, 64)      36928     \n",
      "_________________________________________________________________\n",
      "block1_pool (MaxPooling2D)   (None, 112, 112, 64)      0         \n",
      "_________________________________________________________________\n",
      "block2_conv1 (Conv2D)        (None, 112, 112, 128)     73856     \n",
      "_________________________________________________________________\n",
      "block2_conv2 (Conv2D)        (None, 112, 112, 128)     147584    \n",
      "_________________________________________________________________\n",
      "block2_pool (MaxPooling2D)   (None, 56, 56, 128)       0         \n",
      "_________________________________________________________________\n",
      "block3_conv1 (Conv2D)        (None, 56, 56, 256)       295168    \n",
      "_________________________________________________________________\n",
      "block3_conv2 (Conv2D)        (None, 56, 56, 256)       590080    \n",
      "_________________________________________________________________\n",
      "block3_conv3 (Conv2D)        (None, 56, 56, 256)       590080    \n",
      "_________________________________________________________________\n",
      "block3_conv4 (Conv2D)        (None, 56, 56, 256)       590080    \n",
      "_________________________________________________________________\n",
      "block3_pool (MaxPooling2D)   (None, 28, 28, 256)       0         \n",
      "_________________________________________________________________\n",
      "block4_conv1 (Conv2D)        (None, 28, 28, 512)       1180160   \n",
      "_________________________________________________________________\n",
      "block4_conv2 (Conv2D)        (None, 28, 28, 512)       2359808   \n",
      "_________________________________________________________________\n",
      "block4_conv3 (Conv2D)        (None, 28, 28, 512)       2359808   \n",
      "_________________________________________________________________\n",
      "block4_conv4 (Conv2D)        (None, 28, 28, 512)       2359808   \n",
      "_________________________________________________________________\n",
      "block4_pool (MaxPooling2D)   (None, 14, 14, 512)       0         \n",
      "_________________________________________________________________\n",
      "block5_conv1 (Conv2D)        (None, 14, 14, 512)       2359808   \n",
      "_________________________________________________________________\n",
      "block5_conv2 (Conv2D)        (None, 14, 14, 512)       2359808   \n",
      "_________________________________________________________________\n",
      "block5_conv3 (Conv2D)        (None, 14, 14, 512)       2359808   \n",
      "_________________________________________________________________\n",
      "block5_conv4 (Conv2D)        (None, 14, 14, 512)       2359808   \n",
      "_________________________________________________________________\n",
      "block5_pool (MaxPooling2D)   (None, 7, 7, 512)         0         \n",
      "=================================================================\n",
      "Total params: 20,024,384\n",
      "Trainable params: 20,024,384\n",
      "Non-trainable params: 0\n",
      "_________________________________________________________________\n"
     ]
    }
   ],
   "source": [
    "from keras.applications.vgg19 import VGG19\n",
    "\n",
    "vgg19 = VGG19(weights='imagenet', include_top=False, input_shape=(224, 224, 3))\n",
    "vgg19.summary()"
   ]
  },
  {
   "cell_type": "code",
   "execution_count": 30,
   "metadata": {},
   "outputs": [
    {
     "name": "stdout",
     "output_type": "stream",
     "text": [
      "<keras.engine.input_layer.InputLayer object at 0x0000013F2E16B0F0> False\n",
      "<keras.layers.convolutional.Conv2D object at 0x0000013F2E16B278> False\n",
      "<keras.layers.convolutional.Conv2D object at 0x0000013F2FAAEBE0> False\n",
      "<keras.layers.pooling.MaxPooling2D object at 0x0000013F2FB108D0> False\n",
      "<keras.layers.convolutional.Conv2D object at 0x0000013F2FB10518> False\n",
      "<keras.layers.convolutional.Conv2D object at 0x0000013FF2611C88> False\n",
      "<keras.layers.pooling.MaxPooling2D object at 0x0000013FF2626630> False\n",
      "<keras.layers.convolutional.Conv2D object at 0x0000013FF2648668> False\n",
      "<keras.layers.convolutional.Conv2D object at 0x0000013FF2665400> False\n",
      "<keras.layers.convolutional.Conv2D object at 0x0000013F2FB03C88> False\n",
      "<keras.layers.convolutional.Conv2D object at 0x0000013FF2687C88> False\n",
      "<keras.layers.pooling.MaxPooling2D object at 0x0000013FF26A23C8> False\n",
      "<keras.layers.convolutional.Conv2D object at 0x0000013FF26A2F60> False\n",
      "<keras.layers.convolutional.Conv2D object at 0x0000013FF26DFC18> False\n",
      "<keras.layers.convolutional.Conv2D object at 0x0000013FF26FAE80> False\n",
      "<keras.layers.convolutional.Conv2D object at 0x0000013FF2711940> False\n",
      "<keras.layers.pooling.MaxPooling2D object at 0x0000013FF2732240> False\n",
      "<keras.layers.convolutional.Conv2D object at 0x0000013FF2757978> False\n",
      "<keras.layers.convolutional.Conv2D object at 0x0000013FF2771CF8> True\n",
      "<keras.layers.convolutional.Conv2D object at 0x0000013FF278DA90> True\n",
      "<keras.layers.convolutional.Conv2D object at 0x0000013FF27A54E0> True\n",
      "<keras.layers.pooling.MaxPooling2D object at 0x0000013FF27C66D8> True\n"
     ]
    }
   ],
   "source": [
    "from keras.layers import Conv2D, MaxPooling2D\n",
    "from keras.layers import Activation, Dropout, Flatten, Dense\n",
    "from keras import optimizers, models\n",
    "\n",
    "# Freeze the layers except the last 4 layers\n",
    "for layer in vgg19.layers[:-4]:\n",
    "    layer.trainable = False\n",
    "\n",
    "# Check the trainable status of the individual layers\n",
    "for layer in vgg19.layers:\n",
    "    print(layer, layer.trainable)\n",
    "\n",
    "model = models.Sequential()\n",
    "model.add(vgg19)\n",
    "\n",
    "model.add(Flatten())\n",
    "model.add(Dense(512, activation='relu'))\n",
    "model.add(Dropout(0.4))\n",
    "model.add(Dense(3, activation='softmax'))\n",
    "\n",
    "model.compile(loss='categorical_crossentropy',\n",
    "              optimizer='sgd',\n",
    "              metrics=['accuracy'])"
   ]
  },
  {
   "cell_type": "code",
   "execution_count": 31,
   "metadata": {},
   "outputs": [
    {
     "name": "stdout",
     "output_type": "stream",
     "text": [
      "_________________________________________________________________\n",
      "Layer (type)                 Output Shape              Param #   \n",
      "=================================================================\n",
      "vgg19 (Model)                (None, 7, 7, 512)         20024384  \n",
      "_________________________________________________________________\n",
      "flatten_9 (Flatten)          (None, 25088)             0         \n",
      "_________________________________________________________________\n",
      "dense_15 (Dense)             (None, 512)               12845568  \n",
      "_________________________________________________________________\n",
      "dropout_8 (Dropout)          (None, 512)               0         \n",
      "_________________________________________________________________\n",
      "dense_16 (Dense)             (None, 3)                 1539      \n",
      "=================================================================\n",
      "Total params: 32,871,491\n",
      "Trainable params: 19,926,531\n",
      "Non-trainable params: 12,944,960\n",
      "_________________________________________________________________\n"
     ]
    }
   ],
   "source": [
    "model.summary()"
   ]
  },
  {
   "cell_type": "code",
   "execution_count": 33,
   "metadata": {},
   "outputs": [
    {
     "name": "stdout",
     "output_type": "stream",
     "text": [
      "Epoch 1/30\n",
      "7/6 [==============================] - 5s 747ms/step - loss: 0.1994 - acc: 0.9508 - val_loss: 0.4237 - val_acc: 0.8333\n",
      "Epoch 2/30\n",
      "7/6 [==============================] - 4s 607ms/step - loss: 0.1268 - acc: 0.9728 - val_loss: 0.2724 - val_acc: 0.8519\n",
      "Epoch 3/30\n",
      "7/6 [==============================] - 4s 594ms/step - loss: 0.1152 - acc: 0.9549 - val_loss: 0.3708 - val_acc: 0.8519\n",
      "Epoch 4/30\n",
      "7/6 [==============================] - 4s 614ms/step - loss: 0.5904 - acc: 0.8126 - val_loss: 0.5311 - val_acc: 0.8519\n",
      "Epoch 5/30\n",
      "7/6 [==============================] - 4s 589ms/step - loss: 0.2692 - acc: 0.9045 - val_loss: 0.3463 - val_acc: 0.7778\n",
      "Epoch 6/30\n",
      "7/6 [==============================] - 4s 597ms/step - loss: 0.1458 - acc: 0.9728 - val_loss: 0.3738 - val_acc: 0.8148\n",
      "Epoch 7/30\n",
      "7/6 [==============================] - 4s 595ms/step - loss: 0.0854 - acc: 0.9911 - val_loss: 0.4891 - val_acc: 0.8333\n",
      "Epoch 8/30\n",
      "7/6 [==============================] - 4s 625ms/step - loss: 0.3588 - acc: 0.8691 - val_loss: 0.3601 - val_acc: 0.8519\n",
      "Epoch 9/30\n",
      "7/6 [==============================] - 4s 592ms/step - loss: 0.0791 - acc: 0.9817 - val_loss: 0.2282 - val_acc: 0.9259\n",
      "Epoch 10/30\n",
      "7/6 [==============================] - 4s 608ms/step - loss: 0.0799 - acc: 0.9728 - val_loss: 0.3313 - val_acc: 0.8704\n",
      "Epoch 11/30\n",
      "7/6 [==============================] - 4s 595ms/step - loss: 0.0576 - acc: 0.9866 - val_loss: 0.3790 - val_acc: 0.8704\n",
      "Epoch 12/30\n",
      "7/6 [==============================] - 4s 598ms/step - loss: 0.0483 - acc: 0.9862 - val_loss: 0.5546 - val_acc: 0.8519\n",
      "Epoch 13/30\n",
      "7/6 [==============================] - 4s 608ms/step - loss: 0.0341 - acc: 0.9955 - val_loss: 0.3622 - val_acc: 0.8519\n",
      "Epoch 14/30\n",
      "7/6 [==============================] - 4s 604ms/step - loss: 0.0153 - acc: 1.0000 - val_loss: 0.3982 - val_acc: 0.8704\n",
      "Epoch 15/30\n",
      "7/6 [==============================] - 4s 596ms/step - loss: 0.3500 - acc: 0.8854 - val_loss: 0.7169 - val_acc: 0.7963\n",
      "Epoch 16/30\n",
      "7/6 [==============================] - 4s 599ms/step - loss: 0.1235 - acc: 0.9598 - val_loss: 0.4126 - val_acc: 0.8519\n",
      "Epoch 17/30\n",
      "7/6 [==============================] - 4s 590ms/step - loss: 0.0483 - acc: 0.9955 - val_loss: 0.2771 - val_acc: 0.8704\n",
      "Epoch 18/30\n",
      "7/6 [==============================] - 4s 592ms/step - loss: 0.0300 - acc: 0.9955 - val_loss: 0.4615 - val_acc: 0.8704\n",
      "Epoch 19/30\n",
      "7/6 [==============================] - 4s 615ms/step - loss: 0.0459 - acc: 0.9817 - val_loss: 0.2994 - val_acc: 0.8704\n",
      "Epoch 20/30\n",
      "7/6 [==============================] - 4s 598ms/step - loss: 0.0201 - acc: 1.0000 - val_loss: 0.2499 - val_acc: 0.9074\n",
      "Epoch 21/30\n",
      "7/6 [==============================] - 4s 600ms/step - loss: 0.0173 - acc: 1.0000 - val_loss: 0.2925 - val_acc: 0.8889\n",
      "Epoch 22/30\n",
      "7/6 [==============================] - 4s 604ms/step - loss: 0.0486 - acc: 0.9772 - val_loss: 0.3257 - val_acc: 0.9074\n",
      "Epoch 23/30\n",
      "7/6 [==============================] - 4s 613ms/step - loss: 0.0219 - acc: 0.9907 - val_loss: 0.4206 - val_acc: 0.8704\n",
      "Epoch 24/30\n",
      "7/6 [==============================] - 4s 603ms/step - loss: 0.0213 - acc: 0.9911 - val_loss: 0.5260 - val_acc: 0.8519\n",
      "Epoch 25/30\n",
      "7/6 [==============================] - 4s 589ms/step - loss: 0.0549 - acc: 0.9866 - val_loss: 0.1459 - val_acc: 0.9259\n",
      "Epoch 26/30\n",
      "7/6 [==============================] - 4s 600ms/step - loss: 0.0307 - acc: 0.9911 - val_loss: 0.2426 - val_acc: 0.8889\n",
      "Epoch 27/30\n",
      "7/6 [==============================] - 4s 634ms/step - loss: 0.0136 - acc: 0.9955 - val_loss: 0.1720 - val_acc: 0.9259\n",
      "Epoch 28/30\n",
      "7/6 [==============================] - 4s 589ms/step - loss: 0.0341 - acc: 0.9862 - val_loss: 0.1969 - val_acc: 0.9444\n",
      "Epoch 29/30\n",
      "7/6 [==============================] - 4s 605ms/step - loss: 0.0083 - acc: 1.0000 - val_loss: 0.2237 - val_acc: 0.9259\n",
      "Epoch 30/30\n",
      "7/6 [==============================] - 4s 603ms/step - loss: 0.0107 - acc: 0.9955 - val_loss: 0.2207 - val_acc: 0.9074\n"
     ]
    },
    {
     "data": {
      "text/plain": [
       "<keras.callbacks.History at 0x13ff7f842e8>"
      ]
     },
     "execution_count": 33,
     "metadata": {},
     "output_type": "execute_result"
    }
   ],
   "source": [
    "model.fit_generator(generator=trainDataGenerator,\n",
    "                    steps_per_epoch=trainDataGenerator.samples/trainDataGenerator.batch_size,\n",
    "                    epochs=30,\n",
    "                    validation_data=validationDataGenerator,\n",
    "                    validation_steps=validationDataGenerator.samples/validationDataGenerator.batch_size,\n",
    "                    verbose=1\n",
    "                   )"
   ]
  },
  {
   "cell_type": "code",
   "execution_count": null,
   "metadata": {},
   "outputs": [],
   "source": []
  }
 ],
 "metadata": {
  "kernelspec": {
   "display_name": "Python 3",
   "language": "python",
   "name": "python3"
  },
  "language_info": {
   "codemirror_mode": {
    "name": "ipython",
    "version": 3
   },
   "file_extension": ".py",
   "mimetype": "text/x-python",
   "name": "python",
   "nbconvert_exporter": "python",
   "pygments_lexer": "ipython3",
   "version": "3.6.6"
  }
 },
 "nbformat": 4,
 "nbformat_minor": 2
}
