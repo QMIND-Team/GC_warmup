{
 "cells": [
  {
   "cell_type": "markdown",
   "metadata": {},
   "source": [
    "# Data Augmentation "
   ]
  },
  {
   "cell_type": "code",
   "execution_count": null,
   "metadata": {},
   "outputs": [],
   "source": [
    "from keras.preprocessing.image import ImageDataGenerator\n",
    "\n",
    "# Create image augmenter\n",
    "dataAugment = ImageDataGenerator(rescale=1.0/255,\n",
    "                                 rotation_range=40,\n",
    "                                 width_shift_range=0.2,\n",
    "                                 height_shift_range=0.2,\n",
    "                                 zoom_range=0.2,\n",
    "                                 shear_range=0.2,\n",
    "                                 fill_mode='reflect',\n",
    "                                 validation_split=0.2\n",
    "                                )\n",
    "        \n",
    "trainDataGenerator = dataAugment.flow_from_directory(directory='Data\\Train',\n",
    "                                                     target_size=(224, 224),\n",
    "                                                     class_mode='categorical',\n",
    "                                                     subset='training',\n",
    "                                                     shuffle=True,\n",
    "                                                     # seed=\n",
    "                                                     # batch_size=\n",
    "                                                    )\n",
    "\n",
    "validationDataGenerator = dataAugment.flow_from_directory(directory='Data\\Train',\n",
    "                                                          target_size=(224,224),\n",
    "                                                          class_mode='categorical',\n",
    "                                                          subset='validation',\n",
    "                                                          shuffle=True,\n",
    "                                                          # seed=\n",
    "                                                          # batch_size=\n",
    "                                                         )"
   ]
  },
  {
   "cell_type": "code",
   "execution_count": null,
   "metadata": {},
   "outputs": [],
   "source": []
  },
  {
   "cell_type": "code",
   "execution_count": null,
   "metadata": {},
   "outputs": [],
   "source": []
  },
  {
   "cell_type": "code",
   "execution_count": 4,
   "metadata": {},
   "outputs": [
    {
     "name": "stdout",
     "output_type": "stream",
     "text": [
      "Found 26 images belonging to 4 classes.\n"
     ]
    }
   ],
   "source": [
    "i=0\n",
    "for batch in dataAugment.flow_from_directory('CoinTrain',\n",
    "                                             target_size=(224, 224),\n",
    "                                             save_to_dir='Augmented Coins',\n",
    "                                             # save_prefix='nickel'\n",
    "                                             save_format='jpeg',\n",
    "                                             class_mode='categorical'\n",
    "                                             # seed = \n",
    "                                             # batch_size = \n",
    "                                             # subset = \n",
    "                                             # shuffle=True\n",
    "                                            ):\n",
    "    print(batch)\n",
    "    i+=1\n",
    "    if i >= 2:\n",
    "        break"
   ]
  },
  {
   "cell_type": "markdown",
   "metadata": {},
   "source": [
    "# Testing"
   ]
  },
  {
   "cell_type": "code",
   "execution_count": 1,
   "metadata": {},
   "outputs": [
    {
     "name": "stderr",
     "output_type": "stream",
     "text": [
      "Using TensorFlow backend.\n"
     ]
    }
   ],
   "source": [
    "from keras.preprocessing.image import ImageDataGenerator, array_to_img, img_to_array, load_img\n",
    "\n",
    "datagen = ImageDataGenerator(rescale=1.0/255.0,\n",
    "                             # rotation_range=40,\n",
    "                             width_shift_range=[500],\n",
    "                             height_shift_range=[500],\n",
    "                             # zoom_range=0.9,\n",
    "                             # shear_range=0.2,\n",
    "                             # horizontal_flip=True,\n",
    "                             # validation_split=0.2,\n",
    "                             # preprocessing_function\n",
    "                             fill_mode='reflect'\n",
    "                            )"
   ]
  },
  {
   "cell_type": "code",
   "execution_count": 2,
   "metadata": {},
   "outputs": [],
   "source": [
    "img = load_img('CoinTrain/Quarters/Quarter5_T.jpg')  # this is a PIL image\n",
    "x = img_to_array(img)  # this is a Numpy array with shape (3, 150, 150)\n",
    "x = x.reshape((1,) + x.shape)  # this is a Numpy array with shape (1, 3, 150, 150)"
   ]
  },
  {
   "cell_type": "code",
   "execution_count": 4,
   "metadata": {},
   "outputs": [
    {
     "ename": "TypeError",
     "evalue": "flow() got an unexpected keyword argument 'target_size'",
     "output_type": "error",
     "traceback": [
      "\u001b[0;31m---------------------------------------------------------------------------\u001b[0m",
      "\u001b[0;31mTypeError\u001b[0m                                 Traceback (most recent call last)",
      "\u001b[0;32m<ipython-input-4-690a32019765>\u001b[0m in \u001b[0;36m<module>\u001b[0;34m\u001b[0m\n\u001b[1;32m     11\u001b[0m \u001b[0mi\u001b[0m \u001b[0;34m=\u001b[0m \u001b[0;36m0\u001b[0m\u001b[0;34m\u001b[0m\u001b[0m\n\u001b[1;32m     12\u001b[0m for batch in datagen.flow(x, batch_size=1, target_size=(224,224),\n\u001b[0;32m---> 13\u001b[0;31m                           save_to_dir='TestFolder', save_format='jpeg', save_prefix='wrap'):\n\u001b[0m\u001b[1;32m     14\u001b[0m     \u001b[0mi\u001b[0m \u001b[0;34m+=\u001b[0m \u001b[0;36m1\u001b[0m\u001b[0;34m\u001b[0m\u001b[0m\n\u001b[1;32m     15\u001b[0m     \u001b[0;32mif\u001b[0m \u001b[0mi\u001b[0m \u001b[0;34m>=\u001b[0m \u001b[0;36m1\u001b[0m\u001b[0;34m:\u001b[0m\u001b[0;34m\u001b[0m\u001b[0m\n",
      "\u001b[0;31mTypeError\u001b[0m: flow() got an unexpected keyword argument 'target_size'"
     ]
    }
   ],
   "source": [
    "# i = 0\n",
    "# for batch in datagen.flow_from_directory(\n",
    "#                     'CoinTrain',\n",
    "#                     target_size=(224, 224),\n",
    "#                     save_to_dir='Augmented Coins',\n",
    "#                     save_format='jpeg'):\n",
    "#     i += 1\n",
    "#     if i >= 5:\n",
    "#         break  # otherwise the generator would loop indefinitely\n",
    "        \n",
    "i = 0\n",
    "for batch in datagen.flow(x, batch_size=1,\n",
    "                          save_to_dir='TestFolder',\n",
    "                          save_format='jpeg',\n",
    "                          save_prefix='wrap'):\n",
    "    i += 1\n",
    "    if i >= 1:\n",
    "        break"
   ]
  },
  {
   "cell_type": "code",
   "execution_count": 54,
   "metadata": {},
   "outputs": [
    {
     "name": "stdout",
     "output_type": "stream",
     "text": [
      "Found 26 images belonging to 4 classes.\n",
      "Found 8 images belonging to 4 classes.\n"
     ]
    }
   ],
   "source": [
    "# Create image generator using augmenter\n",
    "trainDataGenerator = dataAugment.flow_from_directory('CoinTrain',\n",
    "                                                     target_size=(256, 256),\n",
    "                                                     save_to_dir='Augmented Coins',\n",
    "                                                     # save_prefix='nickel'\n",
    "                                                     save_format='jpeg')"
   ]
  },
  {
   "cell_type": "code",
   "execution_count": null,
   "metadata": {},
   "outputs": [],
   "source": []
  },
  {
   "cell_type": "code",
   "execution_count": null,
   "metadata": {},
   "outputs": [],
   "source": []
  },
  {
   "cell_type": "code",
   "execution_count": 60,
   "metadata": {},
   "outputs": [],
   "source": [
    "# Create network\n",
    "from keras.models import Sequential\n",
    "from keras.layers import Conv2D, MaxPooling2D\n",
    "from keras.layers import Activation, Dropout, Flatten, Dense\n",
    "\n",
    "model = Sequential()\n",
    "model.add(Conv2D(filters=32, kernel_size=(3,3), activation='relu', data_format='channels_last', input_shape=(256,256,3)))\n",
    "model.add(MaxPooling2D(pool_size=(2,2)))\n",
    "\n",
    "model.add(Conv2D(filters=32, kernel_size=(3,3), activation='relu'))\n",
    "model.add(MaxPooling2D(pool_size=(2,2)))\n",
    "\n",
    "model.add(Conv2D(filters=64, kernel_size=(3,3), activation='relu'))\n",
    "model.add(MaxPooling2D(pool_size=(2,2)))\n",
    "\n",
    "model.add(Flatten())\n",
    "model.add(Dense(64, activation='relu'))\n",
    "model.add(Dropout(0.5))\n",
    "model.add(Dense(4, activation='sigmoid'))\n",
    "\n",
    "model.compile(loss='categorical_crossentropy',\n",
    "              optimizer='rmsprop',\n",
    "              metrics=['accuracy'])\n",
    "              "
   ]
  },
  {
   "cell_type": "code",
   "execution_count": 62,
   "metadata": {},
   "outputs": [
    {
     "name": "stdout",
     "output_type": "stream",
     "text": [
      "Epoch 1/2\n",
      "6/6 [==============================] - 98s 16s/step - loss: 1.2766 - acc: 0.3782 - val_loss: 2.0103 - val_acc: 0.2500\n",
      "Epoch 2/2\n",
      "6/6 [==============================] - 110s 18s/step - loss: 1.2522 - acc: 0.4231 - val_loss: 1.3898 - val_acc: 0.2500\n"
     ]
    }
   ],
   "source": [
    "batch_size=4\n",
    "\n",
    "model.fit_generator(trainDataGenerator,\n",
    "                    steps_per_epoch=26//batch_size,\n",
    "                    epochs=2,\n",
    "                    validation_data=testDataGenerator,\n",
    "                    validation_steps=8//batch_size)\n",
    "model.save_weights('first_try')"
   ]
  },
  {
   "cell_type": "code",
   "execution_count": null,
   "metadata": {},
   "outputs": [],
   "source": []
  }
 ],
 "metadata": {
  "kernelspec": {
   "display_name": "Python 3",
   "language": "python",
   "name": "python3"
  },
  "language_info": {
   "codemirror_mode": {
    "name": "ipython",
    "version": 3
   },
   "file_extension": ".py",
   "mimetype": "text/x-python",
   "name": "python",
   "nbconvert_exporter": "python",
   "pygments_lexer": "ipython3",
   "version": "3.6.6"
  }
 },
 "nbformat": 4,
 "nbformat_minor": 2
}
