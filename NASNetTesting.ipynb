{
 "cells": [
  {
   "cell_type": "markdown",
   "metadata": {},
   "source": [
    "# Data Augmentation"
   ]
  },
  {
   "cell_type": "code",
   "execution_count": 1,
   "metadata": {},
   "outputs": [
    {
     "name": "stderr",
     "output_type": "stream",
     "text": [
      "Using TensorFlow backend.\n"
     ]
    },
    {
     "name": "stdout",
     "output_type": "stream",
     "text": [
      "Found 221 images belonging to 4 classes.\n",
      "Found 54 images belonging to 4 classes.\n"
     ]
    }
   ],
   "source": [
    "from keras.preprocessing.image import ImageDataGenerator\n",
    "\n",
    "# Create image augmenter\n",
    "dataAugment = ImageDataGenerator(rescale=1.0/255,\n",
    "                                 rotation_range=40,\n",
    "                                 width_shift_range=0.2,\n",
    "                                 height_shift_range=0.2,\n",
    "                                 zoom_range=0.2,\n",
    "                                 shear_range=0.2,\n",
    "                                 fill_mode='reflect',\n",
    "                                 horizontal_flip=True,\n",
    "                                 validation_split=0.2,\n",
    "                                 data_format='channels_last'\n",
    "                                )\n",
    "        \n",
    "trainDataGenerator = dataAugment.flow_from_directory(directory='Data/Train',\n",
    "                                                     target_size=(224, 224), # change this to the input size used for your model\n",
    "                                                     class_mode='categorical',\n",
    "                                                     subset='training',\n",
    "                                                     shuffle=True\n",
    "                                                     # batch_size=\n",
    "                                                    )\n",
    "\n",
    "validationDataGenerator = dataAugment.flow_from_directory(directory='Data/Train',\n",
    "                                                          target_size=(224,224), # change this to the input size used for your model\n",
    "                                                          class_mode='categorical',\n",
    "                                                          subset='validation',\n",
    "                                                          shuffle=True\n",
    "                                                          # batch_size=\n",
    "                                                         )"
   ]
  },
  {
   "cell_type": "markdown",
   "metadata": {},
   "source": [
    "# NASNetMobile"
   ]
  },
  {
   "cell_type": "code",
   "execution_count": 30,
   "metadata": {},
   "outputs": [],
   "source": [
    "from keras.applications.nasnet import NASNetMobile\n",
    "\n",
    "NASNet = NASNetMobile(input_shape=(224,224,3), include_top=False, weights='imagenet')"
   ]
  },
  {
   "cell_type": "code",
   "execution_count": 39,
   "metadata": {},
   "outputs": [
    {
     "name": "stdout",
     "output_type": "stream",
     "text": [
      "<keras.layers.normalization.BatchNormalization object at 0xb4558de10> True\n",
      "<keras.layers.normalization.BatchNormalization object at 0xb4549eef0> True\n",
      "<keras.layers.normalization.BatchNormalization object at 0xb45400e10> True\n",
      "<keras.layers.normalization.BatchNormalization object at 0xb461a62b0> True\n",
      "<keras.layers.pooling.AveragePooling2D object at 0xb46113198> True\n",
      "<keras.layers.pooling.AveragePooling2D object at 0xb4560cb70> True\n",
      "<keras.layers.pooling.AveragePooling2D object at 0xb460d3668> True\n",
      "<keras.layers.normalization.BatchNormalization object at 0xb45fa19e8> True\n",
      "<keras.layers.merge.Add object at 0xb4560c470> True\n",
      "<keras.layers.merge.Add object at 0xb4545df98> True\n",
      "<keras.layers.merge.Add object at 0xb4560c940> True\n",
      "<keras.layers.merge.Add object at 0xb46096d68> True\n",
      "<keras.layers.merge.Add object at 0xb4602ab00> True\n",
      "<keras.layers.merge.Concatenate object at 0xb45639400> True\n",
      "<keras.layers.core.Activation object at 0xb49256780> True\n"
     ]
    }
   ],
   "source": [
    "from keras.layers import Conv2D, MaxPooling2D\n",
    "from keras.layers import Activation, Dropout, Flatten, Dense\n",
    "from keras import optimizers, models\n",
    "\n",
    "# Freeze all layers\n",
    "for layer in NASNet.layers:\n",
    "    layer.trainable = False\n",
    "# Unfreeze last 15 layers\n",
    "for layer in NASNet.layers[-15:]:\n",
    "    layer.trainable = True\n",
    "\n",
    "# Check the trainable status of the individual layers\n",
    "for layer in NASNet.layers:\n",
    "    if layer.trainable == True:\n",
    "        print(layer, layer.trainable)\n",
    "\n",
    "model = models.Sequential()\n",
    "model.add(NASNet)\n",
    "\n",
    "model.add(Flatten())\n",
    "model.add(Dense(256, activation='relu'))\n",
    "model.add(Dropout(0.5))\n",
    "model.add(Dense(3, activation='softmax'))\n",
    "\n",
    "model.compile(loss='categorical_crossentropy',\n",
    "              optimizer='sgd',\n",
    "              metrics=['accuracy'])"
   ]
  },
  {
   "cell_type": "code",
   "execution_count": 40,
   "metadata": {},
   "outputs": [
    {
     "name": "stdout",
     "output_type": "stream",
     "text": [
      "_________________________________________________________________\n",
      "Layer (type)                 Output Shape              Param #   \n",
      "=================================================================\n",
      "NASNet (Model)               (None, 7, 7, 1056)        4269716   \n",
      "_________________________________________________________________\n",
      "flatten_10 (Flatten)         (None, 51744)             0         \n",
      "_________________________________________________________________\n",
      "dense_19 (Dense)             (None, 256)               13246720  \n",
      "_________________________________________________________________\n",
      "dropout_10 (Dropout)         (None, 256)               0         \n",
      "_________________________________________________________________\n",
      "dense_20 (Dense)             (None, 3)                 771       \n",
      "=================================================================\n",
      "Total params: 17,517,207\n",
      "Trainable params: 13,249,251\n",
      "Non-trainable params: 4,267,956\n",
      "_________________________________________________________________\n"
     ]
    }
   ],
   "source": [
    "model.summary()"
   ]
  },
  {
   "cell_type": "code",
   "execution_count": null,
   "metadata": {},
   "outputs": [],
   "source": [
    "model.fit_generator(generator=trainDataGenerator,\n",
    "                    steps_per_epoch=trainDataGenerator.samples/trainDataGenerator.batch_size,\n",
    "                    epochs=10,\n",
    "                    validation_data=validationDataGenerator,\n",
    "                    validation_steps=validationDataGenerator.samples/validationDataGenerator.batch_size,\n",
    "                    verbose=1\n",
    "                   )\n",
    "model.save('NASNet_1.h5')"
   ]
  },
  {
   "cell_type": "code",
   "execution_count": null,
   "metadata": {},
   "outputs": [],
   "source": []
  }
 ],
 "metadata": {
  "kernelspec": {
   "display_name": "Python 3",
   "language": "python",
   "name": "python3"
  },
  "language_info": {
   "codemirror_mode": {
    "name": "ipython",
    "version": 3
   },
   "file_extension": ".py",
   "mimetype": "text/x-python",
   "name": "python",
   "nbconvert_exporter": "python",
   "pygments_lexer": "ipython3",
   "version": "3.6.6"
  }
 },
 "nbformat": 4,
 "nbformat_minor": 2
}
